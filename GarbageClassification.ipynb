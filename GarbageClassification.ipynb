{
 "cells": [
  {
   "cell_type": "code",
   "execution_count": 3,
   "id": "5e7fdb5e-f66b-4fab-af59-e9838795a131",
   "metadata": {},
   "outputs": [],
   "source": [
    "import numpy as np  # For numerical operations and array manipulations\n",
    "import matplotlib.pyplot as plt  # For plotting graphs and visualizations\n",
    "import seaborn as sns  # For statistical data visualization, built on Matplotlib\n",
    "import tensorflow as tf  # For building and training machine learning models\n",
    "from tensorflow import keras  # High-level API for TensorFlow to simplify model building\n",
    "from tensorflow.keras import Layer  # For creating custom layers in Keras\n",
    "from tensorflow.keras.models import Sequential  # For building neural networks sequentially (layer-by-layer)\n",
    "from tensorflow.keras.layers import Rescaling, GlobalAveragePooling2D  # For preprocessing and pooling layers\n",
    "from tensorflow.keras import layers, optimizers, callbacks  # For layers, optimizers, and callbacks in Keras\n",
    "from sklearn.utils.class_weight import compute_class_weight  # For computing class weights for imbalanced datasets\n",
    "from tensorflow.keras.applications import EfficientNetV2B2  # Importing EfficientNetV2B2 model for transfer learning\n",
    "from sklearn.metrics import confusion_matrix, classification_report  # For evaluating model performance\n",
    "import gradio as gr  # For creating interactive web interfaces for ML models"
   ]
  },
  {
   "cell_type": "code",
   "execution_count": 5,
   "id": "c39cd3a1-e4cb-4b83-848a-ff31c2000cb3",
   "metadata": {},
   "outputs": [],
   "source": [
    "dataset_dir= r\"C:\\Projects\\garbage\\TrashType_Image_Dataset\"\n",
    "image_size = (124, 124)\n",
    "batch_size = 32\n",
    "seed = 42"
   ]
  },
  {
   "cell_type": "code",
   "execution_count": 6,
   "id": "0d89fe92-7bdd-469b-8a4f-1500c9ca7cc2",
   "metadata": {},
   "outputs": [
    {
     "name": "stdout",
     "output_type": "stream",
     "text": [
      "Found 180 files belonging to 6 classes.\n",
      "Using 144 files for training.\n"
     ]
    }
   ],
   "source": [
    "train_ds = tf.keras.utils.image_dataset_from_directory(\n",
    "    dataset_dir,\n",
    "    validation_split=0.2,\n",
    "    subset=\"training\",\n",
    "    seed=seed,\n",
    "    shuffle = True,\n",
    "    image_size=image_size,\n",
    "    batch_size=batch_size\n",
    ")"
   ]
  },
  {
   "cell_type": "code",
   "execution_count": 7,
   "id": "af8416bf-a1cf-4fad-a8c1-bcef14a34d84",
   "metadata": {},
   "outputs": [
    {
     "name": "stdout",
     "output_type": "stream",
     "text": [
      "Found 180 files belonging to 6 classes.\n",
      "Using 36 files for validation.\n"
     ]
    }
   ],
   "source": [
    "val_ds = tf.keras.utils.image_dataset_from_directory(\n",
    "    dataset_dir,\n",
    "    validation_split=0.2,\n",
    "    subset=\"validation\",\n",
    "    seed=seed,\n",
    "    shuffle = True,\n",
    "    image_size=image_size,\n",
    "    batch_size=batch_size\n",
    ")\n",
    "val_class= val_ds.class_names"
   ]
  },
  {
   "cell_type": "code",
   "execution_count": 8,
   "id": "6c376bb0-3d6d-41e7-9eb5-d81aa7534553",
   "metadata": {},
   "outputs": [],
   "source": [
    "# Get the total number of batches in the validation dataset\n",
    "val_batches = tf.data.experimental.cardinality(val_ds)  \n",
    "\n",
    "# Split the validation dataset into two equal parts:\n",
    "# First half becomes the test dataset\n",
    "test_ds = val_ds.take(val_batches // 2)  \n",
    "\n",
    "# Second half remains as the validation dataset\n",
    "val_dat = val_ds.skip(val_batches // 2)  \n",
    "\n",
    "# Optimize test dataset by caching and prefetching to improve performance\n",
    "test_ds_eval = test_ds.cache().prefetch(tf.data.AUTOTUNE)"
   ]
  },
  {
   "cell_type": "code",
   "execution_count": 9,
   "id": "b29a0c28-a05a-4d6e-820f-ee7a0a97163b",
   "metadata": {},
   "outputs": [
    {
     "name": "stdout",
     "output_type": "stream",
     "text": [
      "['cardboard', 'glass', 'metal', 'paper', 'plastic', 'trash']\n",
      "['cardboard', 'glass', 'metal', 'paper', 'plastic', 'trash']\n",
      "6\n"
     ]
    }
   ],
   "source": [
    "print(train_ds.class_names)\n",
    "print(val_class)\n",
    "print(len(train_ds.class_names))"
   ]
  }
 ],
 "metadata": {
  "kernelspec": {
   "display_name": "Python 3 (ipykernel)",
   "language": "python",
   "name": "python3"
  },
  "language_info": {
   "codemirror_mode": {
    "name": "ipython",
    "version": 3
   },
   "file_extension": ".py",
   "mimetype": "text/x-python",
   "name": "python",
   "nbconvert_exporter": "python",
   "pygments_lexer": "ipython3",
   "version": "3.11.5"
  }
 },
 "nbformat": 4,
 "nbformat_minor": 5
}
